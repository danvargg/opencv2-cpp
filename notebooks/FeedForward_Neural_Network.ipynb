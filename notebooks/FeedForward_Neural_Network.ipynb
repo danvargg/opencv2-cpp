{
 "cells": [
  {
   "cell_type": "markdown",
   "metadata": {
    "colab_type": "text",
    "id": "_sNXafaD9M7P"
   },
   "source": [
    "# <font style=\"color:rgb(50,120,229)\">Image Classification using Feed Forward Neural Network</font> \n",
    "In this notebook, we will use a simple feed forward neural network to peform image classification. \n",
    "\n",
    "Traditionally, the \"hello world\" example in image classification used to be a dataset called MNIST which stood for **Modified National Institute of Standards and Technology** database. It was a dataset of 60,000 training images and 10,000 testing images of hand written characters. The size of the images in the dataset was 28x28.  \n",
    "\n",
    "With modern methods, it is very easy to achieve high accuracy on the MNIST dataset. \n",
    "\n",
    "Therefore, in this notebook, we have chosen to use the **Fashion MNIST** dataset which also consists of 28x28 images, but they are derived from fashion items. Like MNIST, the training set consists of 60,000 images and the test set consists of 10,000 images."
   ]
  },
  {
   "cell_type": "markdown",
   "metadata": {
    "colab_type": "text",
    "id": "anDcnM9J9M7S"
   },
   "source": [
    "# <font style=\"color:rgb(50,120,229)\">The Problem</font>\n",
    "\n",
    "The figure below shows some samples from the Fashion MNIST dataset.\n",
    "\n",
    "<img src=\"https://www.dropbox.com/s/m0alzz7m9c6t88u/fashion-mnist-sprite.png?dl=1\" width=\"600\">\n",
    "\n",
    "There are 10 classes. Each training and test example is assigned to one of the following labels:\n",
    "\n",
    "| Label | Description |\n",
    "| --- | --- |\n",
    "| 0 | T-shirt/top |\n",
    "| 1 | Trouser |\n",
    "| 2 | Pullover |\n",
    "| 3 | Dress |\n",
    "| 4 | Coat |\n",
    "| 5 | Sandal |\n",
    "| 6 | Shirt |\n",
    "| 7 | Sneaker |\n",
    "| 8 | Bag |\n",
    "| 9 | Ankle boot |\n",
    "\n",
    "\n",
    "We want to perform image classification on this dataset using a feedforward neural network. The task is to train a machine learning algorithm to recognize a new sample from the test set correctly.\n",
    "Here we use libtorch(https://pytorch.org/tutorials/advanced/cpp_frontend.html) for Image classification using feed forward neural network in C++. \n",
    "\n",
    "# <font style = \"color:rgb(8,133,37)\">Import Libraries</font>¶\n",
    "\n",
    "Import required libraries and define constants like\n",
    "- batchSize\n",
    "- epochs\n",
    "- logInterval\n",
    "- Images path of train and test\n",
    "- Labels path of train and test\n",
    "- Torch device(To use CPU  or GPU accordingly)"
   ]
  },
  {
   "cell_type": "markdown",
   "metadata": {
    "colab_type": "text",
    "id": "3SGBbF1E9M7T"
   },
   "source": [
    "```cpp\n",
    "#include <stdint.h>\n",
    "#include <torch/torch.h>\n",
    "#include <iostream>\n",
    "#include <fstream>\n",
    "#include <string>\n",
    "#include <vector>\n",
    "#include <opencv2/core/core.hpp>\n",
    "#include <opencv2/opencv.hpp>\n",
    "#include <opencv2/highgui/highgui.hpp>\n",
    "#include \"read-mnist.h\"\n",
    "\n",
    "struct Options {\n",
    "  int batchSize = 100; //Batch size\n",
    "  size_t epochs = 20; // Number of epochs\n",
    "  size_t logInterval = 20;\n",
    "  std::ofstream loss_acc_train;\n",
    "  std::ofstream loss_acc_test;\n",
    "  //Paths to train and test images and labels\n",
    "  const char* train_images_path = \"train-images-idx3-ubyte\";\n",
    "  const char* train_labels_path = \"train-labels-idx1-ubyte\";\n",
    "  const char* test_images_path = \"t10k-images-idx3-ubyte\";\n",
    "  const char* test_labels_path = \"t10k-labels-idx1-ubyte\";\n",
    "  torch::DeviceType device = torch::kCPU;\n",
    "};\n",
    "\n",
    "static Options options;\n",
    "```"
   ]
  },
  {
   "cell_type": "markdown",
   "metadata": {
    "colab_type": "text",
    "id": "_mZPs1iF9M7U"
   },
   "source": [
    "# <font style=\"color:rgb(50,120,229)\">1. The Model</font>\n",
    "\n",
    "We will use raw pixel values as input to the network. The images are simply matrices of size 28x28. So, we reshape the image matrix to an array of size 784 ( 28*28 ) and feed this array to the network. \n",
    "\n",
    "We will use a network with 2 hidden layers having 512 neurons each. \n",
    "\n",
    "The output layer will have 10 layers for the 10 fashion items. The schematic diagram is shown below:\n",
    "\n",
    "<img src=\"https://www.learnopencv.com/wp-content/uploads/2017/10/mlp-mnist-schematic.jpg\" width=\"700\">\n",
    "\n",
    "We use libtorch functional module(torch::nn::Module) to define the feed forward network shown above.\n",
    "\n",
    "- **Dense Layer** \n",
    "    \n",
    "        torch::nn::Linear(input_size, output_size)\n",
    "\n",
    "All the defined layers are to be registered explicitly. Then we use forward pass through each layer and apply activation \"relu\" and finally apply log softmax on the output to get probabilities of all the target classes."
   ]
  },
  {
   "cell_type": "markdown",
   "metadata": {
    "colab_type": "text",
    "id": "b0ZmNglU9M7V"
   },
   "source": [
    "```cpp\n",
    "//Feed Forward network\n",
    "struct Net: torch::nn::Module {\n",
    "    Net() {\n",
    "        fc1 = register_module(\"fc1\", torch::nn::Linear(28*28, 512));\n",
    "        fc2 = register_module(\"fc2\", torch::nn::Linear(512, 512));\n",
    "        fc3 = register_module(\"fc3\", torch::nn::Linear(512, 10));\n",
    "    }\n",
    "\n",
    "    // Implement Forward Pass Algorithm\n",
    "    torch::Tensor forward(torch::Tensor x) {\n",
    "        x = x.view({options.batchSize, -1});\n",
    "        //Input -> Linear -> Relu -> Linear -> Relu -> Linear -> Softmax Classifier-> Output\n",
    "        x = torch::relu(fc1->forward(x));\n",
    "        x = torch::relu(fc2->forward(x));\n",
    "        x = fc3->forward(x);\n",
    "        return torch::log_softmax(x, 1);\n",
    "    }\n",
    "\n",
    "    //Initilaize the constructor with null pointer. More details given in the reference\n",
    "    torch::nn::Linear fc1{nullptr}, fc2{nullptr}, fc3{nullptr};\n",
    "};\n",
    "```"
   ]
  },
  {
   "cell_type": "markdown",
   "metadata": {
    "colab_type": "text",
    "id": "UPEzVk3B9M7X"
   },
   "source": [
    "# <font style=\"color:rgb(50,120,229)\">2. Load the Data</font>\n",
    "In libtorch, Fashion MNIST is not a built-in dataset so we need to custom load the data. This dataset is available in ubyte(eg:train-images-idx3-ubyte) format files. This format files are explained here - http://yann.lecun.com/exdb/mnist/.\n",
    "\n",
    "We have 2 different files for images and labels in case of both train and test data. We will use Custom Dataset Class like we did for linear regression earlier to process the data and convert to tensor form. Normalization of images is also performed in read-mnist.h after tensor conversion. "
   ]
  },
  {
   "cell_type": "markdown",
   "metadata": {
    "colab_type": "text",
    "id": "pDiToNUI9M7Z"
   },
   "source": [
    "```cpp\n",
    "/*Read images from ubyte format and convert to tensors*/\n",
    "torch::Tensor process_images(const std::string& root, bool train) {\n",
    "  const auto path = root + (train ? options.train_images_path: options.test_images_path); //images_path\n",
    "  auto images = read_mnist_images(path); //refer to read-mnist.h\n",
    "\n",
    "  return images;\n",
    "}\n",
    "\n",
    "/*Read labels from ubyte format and convert to tensors*/\n",
    "torch::Tensor process_labels(const std::string& root, bool train) {\n",
    "  const auto path = root + (train ? options.train_labels_path: options.test_labels_path); //labels_path\n",
    "  auto labels = read_mnist_labels(path);//refer to read-mnist.h\n",
    "\n",
    "  return labels;\n",
    "}\n",
    "\n",
    "\n",
    "/*Use CustomDataset class to load any type of dataset other than inbuilt datasets*/\n",
    "class CustomDataset : public torch::data::datasets::Dataset<CustomDataset> {\n",
    "    private:\n",
    "        /* data */\n",
    "        // Should be 2 tensors\n",
    "        torch::Tensor images, labels;\n",
    "        size_t img_size;\n",
    "    public:\n",
    "        CustomDataset(const std::string& root, bool train) {\n",
    "            images = process_images(root, train);\n",
    "            labels = process_labels(root, train);\n",
    "            img_size = images.size(0);\n",
    "        }\n",
    "    \n",
    "        /*Returns the data sample at the given `index*/\n",
    "        torch::data::Example<> get(size_t index) override {\n",
    "            /* This should return {torch::Tensor, torch::Tensor} */\n",
    "            torch::Tensor img = images[index];\n",
    "            torch::Tensor label = labels[index];\n",
    "            return {img.clone(), label.clone()};\n",
    "        };\n",
    "    \n",
    "    torch::optional<size_t> size() const override {\n",
    "        return img_size;\n",
    "    };\n",
    "};\n",
    "```"
   ]
  },
  {
   "cell_type": "markdown",
   "metadata": {
    "colab_type": "text",
    "id": "-iVH_m6z9M7b"
   },
   "source": [
    "# <font style=\"color:rgb(50,120,229)\">3. Train the Network</font>\n",
    "Training data is passed in set of batches and **negative log likelihood** loss function is used to calculate the loss. Then the loss function is passed through **stochastic gradient descent** optimizer with learning rate 0.01 which is defined in the main().\n",
    "\n",
    "Following are the major functions of training the network\n",
    "- Initialize the network in training mode\n",
    "    \n",
    "        network->train()\n",
    "- Uses negative log likelihood loss\n",
    "        \n",
    "        torch::nll_loss(output, targets)\n",
    "- Computes the gradients in the network\n",
    "        \n",
    "        loss.backward()\n",
    "- Updates the parameters of the network using the computed gradients\n",
    "        \n",
    "        optimizer.step()"
   ]
  },
  {
   "cell_type": "markdown",
   "metadata": {
    "colab_type": "text",
    "id": "m1n1-0_H9M7c"
   },
   "source": [
    "```cpp\n",
    "template <typename DataLoader>\n",
    "void train(std::shared_ptr<Net> network, DataLoader& loader, torch::optim::Optimizer& optimizer, size_t epoch, size_t data_size) {\n",
    "  size_t index = 0;\n",
    "  /*Set network in the training mode*/\n",
    "  network->train();\n",
    "  float Loss = 0, Acc = 0;\n",
    "\n",
    "  for (auto& batch : loader) {\n",
    "    auto data = batch.data.to(options.device);\n",
    "    auto targets = batch.target.to(options.device).view({-1});\n",
    "    // Execute the model on the input data\n",
    "    auto output = network->forward(data);\n",
    "\n",
    "    //Using mean square error loss function to compute loss\n",
    "    auto loss = torch::nll_loss(output, targets);\n",
    "    auto acc = output.argmax(1).eq(targets).sum();\n",
    "\n",
    "    // Reset gradients\n",
    "    optimizer.zero_grad();\n",
    "    // Compute gradients\n",
    "    loss.backward();\n",
    "    //Update the parameters\n",
    "    optimizer.step();\n",
    "\n",
    "    Loss += loss.template item<float>();\n",
    "    Acc += acc.template item<float>();\n",
    "  }\n",
    "\n",
    "  if (index++ % options.log_interval == 0) {\n",
    "  \t  auto end = data_size;\n",
    "\n",
    "      std::cout << \"Train Epoch: \" << epoch << \" \" << end << \"/\" << data_size\n",
    "                << \"\\tLoss: \" << Loss/end << \"\\tAcc: \" << Acc / end\n",
    "                << std::endl;\n",
    "    }\n",
    "};\n",
    "```"
   ]
  },
  {
   "cell_type": "markdown",
   "metadata": {
    "colab_type": "text",
    "id": "_Kuy5xpK9M7e"
   },
   "source": [
    "# <font style=\"color:rgb(50,120,229)\">4. Test the Model</font>\n",
    "Similar to the above, the test data is passed through the trained network. Loss is calculated on test data at each epoch. After all epochs, 3 sample outputs and their ground truth are displayed.\n",
    "\n",
    "Following are the major functions of test the network\n",
    "- Initialize the network in testing mode\n",
    "        \n",
    "         network->eval()\n",
    "- Compute negative log likelihood loss\n",
    "        \n",
    "         torch::nll_loss(output, targets)"
   ]
  },
  {
   "cell_type": "markdown",
   "metadata": {
    "colab_type": "text",
    "id": "KNqjIVM49M7f"
   },
   "source": [
    "```cpp\n",
    "template <typename DataLoader>\n",
    "void test(std::shared_ptr<Net> network, DataLoader& loader, size_t epoch, size_t data_size) {\n",
    "  network->eval();\n",
    "  size_t index = 0;\n",
    "  float Loss = 0, Acc = 0;\n",
    "  int display_count = 0;\n",
    "\n",
    "  for (const auto& batch : loader) {\n",
    "    auto data = batch.data.to(options.device);\n",
    "    auto targets = batch.target.to(options.device).view({-1});\n",
    "\n",
    "    auto output = network->forward(data);\n",
    "\n",
    "    //To display 3 test image and its output\n",
    "    if (display_count < 3 && epoch == options.epochs) {\n",
    "      cv::Mat test_image(28,28,CV_8UC1);\n",
    "      torch::Tensor tensor = data[display_count].mul_(255).clamp(0,255).to(torch::kU8);\n",
    "      tensor = tensor.to(torch::kCPU);\n",
    "      std::memcpy((void*)test_image.data,tensor.data_ptr(),sizeof(torch::kU8)*tensor.numel());\n",
    "\n",
    "      std::cout << \"***** TESTING on TEST IMAGE \" << display_count << \" *****\" << std::endl;\n",
    "      std::cout << \"GroundTruth: \" << targets[display_count].template item<float>()\n",
    "                << \", Prediction: \" << output[display_count].argmax() << std::endl;\n",
    "      std::cout << \"Output Probabilities\" << std::endl;\n",
    "      for (int i =0; i < output[display_count].size(0); i++) {\n",
    "        std::cout << \"Class: \" << i << \" \" << torch::exp(output[display_count])[i].template item<float>()  << std::endl;\n",
    "      }\n",
    "      cv::imwrite(\"OUTPUT_GT_\" + std::to_string(targets[display_count].template item<int>()) +\n",
    "                  \"_Pred_\" + std::to_string(output[display_count].argmax().template item<int>()) + \".jpg\", test_image);\n",
    "      std::cout << \"Outputs saved, Please checkout the output images\" << std::endl;\n",
    "\n",
    "      display_count++;\n",
    "    }\n",
    "\n",
    "    auto loss = torch::nll_loss(output, targets);\n",
    "    auto acc = output.argmax(1).eq(targets).sum();\n",
    "\n",
    "    Loss += loss.template item<float>();\n",
    "    Acc += acc.template item<float>();\n",
    "  }\n",
    "\n",
    "  if (index++ % options.logInterval == 0) {\n",
    "    options.loss_acc_test << std::to_string(Loss/data_size) + \",\" + std::to_string(Acc/data_size) << std::endl;\n",
    "    std::cout << \"Val Epoch: \" << epoch\n",
    "              << \"\\tVal Loss: \" << Loss / data_size << \"\\tVal ACC:\"<< Acc / data_size << std::endl;\n",
    "  }\n",
    "}\n",
    "\n",
    "```"
   ]
  },
  {
   "cell_type": "markdown",
   "metadata": {
    "colab_type": "text",
    "id": "hftPnO8S9M7h"
   },
   "source": [
    "# <font style=\"color:rgb(50,120,229)\">5. Main function</font>\n",
    "Main function contains following steps:\n",
    "- **Data Processing**\n",
    "    - Data is processed within Custom Dataset Constructer and converted to tensors. Here, we already have separate\n",
    "      train and test data.\n",
    "          auto dataset = torch::data::datasets::MNIST(\"./mnist\")\n",
    "            .map(torch::data::transforms::Normalize<>(0.5, 0.5))\n",
    "            .map(torch::data::transforms::Stack<>());\n",
    "- **Data Loader**\n",
    "    - This provides options for batch size, number of workers to be used to speed up the data loading.\n",
    "            auto data_loader = torch::data::make_data_loader(\n",
    "                std::move(dataset),\n",
    "                torch::data::DataLoaderOptions().batch_size(kBatchSize).workers(2));\n",
    "- **Model Initialization**\n",
    "    - Define network parameters\n",
    "            struct Net : torch::nn::Module {};\n",
    "                void a(std::shared_ptr<Net> net) { }\n",
    "                int main() {\n",
    "                  auto net = std::make_shared<Net>();\n",
    "                  a(net);\n",
    "                }\n",
    "- **Training**\n",
    "    - Define the optimizer and call the train function epoch number of times and observe the loss values.\n",
    "            torch::optim::Adam generator_optimizer(\n",
    "            generator->parameters(), torch::optim::AdamOptions(2e-4).beta1(0.5));\n",
    "            train(net, *train_loader, generator_optimizer, epoch_number, train_dataset_size);\n",
    "- **Testing**\n",
    "    - Call the test function in each epoch and observe the loss values.\n",
    "            test(net, *test_loader, test_dataset_size);"
   ]
  },
  {
   "cell_type": "markdown",
   "metadata": {
    "colab_type": "text",
    "id": "f-bvqpV49M7h"
   },
   "source": [
    "```cpp\n",
    "int main() {\n",
    "    /*Path to Fashion Mnist*/\n",
    "    std::string root_string = \"./fashion-mnist/\";\n",
    "    bool isTrain = true; //Flag to create train or test data\n",
    "\n",
    "    /*Uses Custom Dataset Class to load train data. Apply stack collation which takes \n",
    "      batch of tensors and stacks them into single tensor along the first dimension*/\n",
    "    auto train_dataset = CustomDataset(root_string, isTrain).map(torch::data::transforms::Stack<>());\n",
    "    /*Data Loader provides options to speed up the data loading like batch size, number of workers*/\n",
    "    auto train_loader = torch::data::make_data_loader<torch::data::samplers::RandomSampler>(\n",
    "        std::move(train_dataset), options.batch_size);\n",
    "    auto train_size = train_dataset.size().value();\n",
    "\n",
    "    /*Process and load test dat similar to above*/\n",
    "    auto test_dataset = CustomDataset(root_string, false).map(torch::data::transforms::Stack<>());\n",
    "    auto test_loader = torch::data::make_data_loader<torch::data::samplers::RandomSampler>(\n",
    "        std::move(test_dataset), options.batch_size);\n",
    "    auto test_size = test_dataset.size().value();\n",
    "\n",
    "    /*Create Feed forward network*/\n",
    "    auto net = std::make_shared<Net>();\n",
    "    // torch::load(net, \"net.pt\"); /*To use trained model*/\n",
    "\n",
    "    /*Using stochastic gradient descent optimizer with learning rate 0.01*/\n",
    "    torch::optim::SGD optimizer(net->parameters(), 0.01); // Learning Rate 0.01\n",
    "\n",
    "    for (size_t i = 0; i < options.iterations; i++) {\n",
    "        /*Run the training for all iterations*/\n",
    "        train(net, *train_loader, optimizer, i + 1, train_size);\n",
    "        std::cout << std::endl;\n",
    "        /*Run on the validation set for all iterations*/\n",
    "        test(net, *test_loader, i+1, test_size);\n",
    "        /*Save the network*/\n",
    "        torch::save(net, \"net.pt\");\n",
    "    }\n",
    "\n",
    "    return 0;\n",
    "}\n",
    "```"
   ]
  },
  {
   "cell_type": "markdown",
   "metadata": {
    "colab_type": "text",
    "id": "Epz79QLY9M7i"
   },
   "source": [
    "# <font style=\"color:rgb(50,120,229)\">6. Run inference on saved model</font>\n",
    "We load the saved network to run inference on test data. Initialize the network and then use\n",
    "        \n",
    "       torch::load(network, path_to_network)\n",
    "to load the network."
   ]
  },
  {
   "cell_type": "markdown",
   "metadata": {
    "colab_type": "text",
    "id": "JX3viB919M7j"
   },
   "source": [
    "```cpp\n",
    "int main() {\n",
    "    /*Path to Fashion Mnist*/\n",
    "    std::string root_string = \"./fashion-mnist/\";\n",
    "\n",
    "    /*Process and load test dat similar to above*/\n",
    "    auto test_dataset = CustomDataset(root_string, false).map(torch::data::transforms::Stack<>());\n",
    "    auto test_loader = torch::data::make_data_loader<torch::data::samplers::RandomSampler>(\n",
    "        std::move(test_dataset), options.batch_size);\n",
    "    auto test_size = test_dataset.size().value();\n",
    "\n",
    "    auto net = std::make_shared<Net>();\n",
    "    torch::load(net, \"net.pt\");\n",
    "    test(net, *test_loader, options.epochs, test_size);\n",
    "\n",
    "    return 0;\n",
    "}\n",
    "```"
   ]
  },
  {
   "cell_type": "markdown",
   "metadata": {
    "colab_type": "text",
    "id": "ko3bEkRL9M7k"
   },
   "source": [
    "# <font style=\"color:blue\">Steps to Compile and Run the Code on Google Colab</font>"
   ]
  },
  {
   "cell_type": "markdown",
   "metadata": {
    "colab_type": "text",
    "id": "ake-gOIq9M7m"
   },
   "source": [
    "## <font style=\"color:green\">Download LibTorch</font>"
   ]
  },
  {
   "cell_type": "code",
   "execution_count": 1,
   "metadata": {
    "colab": {
     "base_uri": "https://localhost:8080/",
     "height": 204
    },
    "colab_type": "code",
    "id": "g16kAVKK9M7o",
    "outputId": "ee22945f-2a78-4c5b-f0e9-2f16d971f7e8"
   },
   "outputs": [
    {
     "name": "stdout",
     "output_type": "stream",
     "text": [
      "--2020-01-04 19:08:24--  https://download.pytorch.org/libtorch/cu101/libtorch-shared-with-deps-1.3.1.zip\n",
      "Resolving download.pytorch.org (download.pytorch.org)... 13.35.7.126, 13.35.7.106, 13.35.7.18, ...\n",
      "Connecting to download.pytorch.org (download.pytorch.org)|13.35.7.126|:443... connected.\n",
      "HTTP request sent, awaiting response... 200 OK\n",
      "Length: 740942259 (707M) [application/zip]\n",
      "Saving to: ‘libtorch.zip’\n",
      "\n",
      "libtorch.zip        100%[===================>] 706.62M   112MB/s    in 6.6s    \n",
      "\n",
      "2020-01-04 19:08:32 (107 MB/s) - ‘libtorch.zip’ saved [740942259/740942259]\n",
      "\n"
     ]
    }
   ],
   "source": [
    "!wget https://download.pytorch.org/libtorch/cu101/libtorch-shared-with-deps-1.3.1.zip -O libtorch.zip"
   ]
  },
  {
   "cell_type": "code",
   "execution_count": null,
   "metadata": {
    "colab": {
     "base_uri": "https://localhost:8080/",
     "height": 1000
    },
    "colab_type": "code",
    "id": "NSuBxcvI9M7s",
    "outputId": "071a1038-eb09-4774-9652-bae980a3ea5a"
   },
   "outputs": [],
   "source": [
    "!unzip libtorch.zip"
   ]
  },
  {
   "cell_type": "code",
   "execution_count": 0,
   "metadata": {
    "colab": {},
    "colab_type": "code",
    "id": "re_ku3jR9M7w"
   },
   "outputs": [],
   "source": [
    "!rm -r libtorch.zip"
   ]
  },
  {
   "cell_type": "markdown",
   "metadata": {
    "colab_type": "text",
    "id": "ULTB7Kxq9M70"
   },
   "source": [
    "## <font style=\"color:green\">Download Code</font>"
   ]
  },
  {
   "cell_type": "code",
   "execution_count": 4,
   "metadata": {
    "colab": {
     "base_uri": "https://localhost:8080/",
     "height": 377
    },
    "colab_type": "code",
    "id": "vish_NdE9M71",
    "outputId": "a86c765b-909e-428d-f44c-d65f30b25275"
   },
   "outputs": [
    {
     "name": "stdout",
     "output_type": "stream",
     "text": [
      "--2020-01-04 19:08:55--  https://www.dropbox.com/s/cf0yvfzxml1x8v2/feed-forward.zip?dl=1\n",
      "Resolving www.dropbox.com (www.dropbox.com)... 162.125.82.1, 2620:100:6032:1::a27d:5201\n",
      "Connecting to www.dropbox.com (www.dropbox.com)|162.125.82.1|:443... connected.\n",
      "HTTP request sent, awaiting response... 301 Moved Permanently\n",
      "Location: /s/dl/cf0yvfzxml1x8v2/feed-forward.zip [following]\n",
      "--2020-01-04 19:08:55--  https://www.dropbox.com/s/dl/cf0yvfzxml1x8v2/feed-forward.zip\n",
      "Reusing existing connection to www.dropbox.com:443.\n",
      "HTTP request sent, awaiting response... 302 Found\n",
      "Location: https://uce45bf2110b9aeaa6bb997b0c8d.dl.dropboxusercontent.com/cd/0/get/AvjLzW_rovLfl9VeFzR39M66Jr7bn2u6aVBF7O54RrJFT8lQUwze5U6bgNBVPz6dabkh-b6nRLDH1cc5XZIUkdRu3Ae9OiF86i6d5dDldGijlMWwKv29ofL68tJSc2b0zuM/file?dl=1# [following]\n",
      "--2020-01-04 19:08:56--  https://uce45bf2110b9aeaa6bb997b0c8d.dl.dropboxusercontent.com/cd/0/get/AvjLzW_rovLfl9VeFzR39M66Jr7bn2u6aVBF7O54RrJFT8lQUwze5U6bgNBVPz6dabkh-b6nRLDH1cc5XZIUkdRu3Ae9OiF86i6d5dDldGijlMWwKv29ofL68tJSc2b0zuM/file?dl=1\n",
      "Resolving uce45bf2110b9aeaa6bb997b0c8d.dl.dropboxusercontent.com (uce45bf2110b9aeaa6bb997b0c8d.dl.dropboxusercontent.com)... 162.125.82.6, 2620:100:6032:6::a27d:5206\n",
      "Connecting to uce45bf2110b9aeaa6bb997b0c8d.dl.dropboxusercontent.com (uce45bf2110b9aeaa6bb997b0c8d.dl.dropboxusercontent.com)|162.125.82.6|:443... connected.\n",
      "HTTP request sent, awaiting response... 200 OK\n",
      "Length: 30884038 (29M) [application/binary]\n",
      "Saving to: ‘feed-forward.zip’\n",
      "\n",
      "feed-forward.zip    100%[===================>]  29.45M  3.66MB/s    in 8.0s    \n",
      "\n",
      "2020-01-04 19:09:04 (3.70 MB/s) - ‘feed-forward.zip’ saved [30884038/30884038]\n",
      "\n"
     ]
    }
   ],
   "source": [
    "!wget \"https://www.dropbox.com/s/cf0yvfzxml1x8v2/feed-forward.zip?dl=1\" -O feed-forward.zip"
   ]
  },
  {
   "cell_type": "code",
   "execution_count": 5,
   "metadata": {
    "colab": {
     "base_uri": "https://localhost:8080/",
     "height": 187
    },
    "colab_type": "code",
    "id": "DZnO_FDC9M74",
    "outputId": "386386a4-ebf0-42c4-e3da-dfac97f69828"
   },
   "outputs": [
    {
     "name": "stdout",
     "output_type": "stream",
     "text": [
      "Archive:  feed-forward.zip\n",
      "   creating: feed-forward/\n",
      "  inflating: feed-forward/CMakeLists.txt  \n",
      "   creating: feed-forward/fashion-mnist/\n",
      "  inflating: feed-forward/fashion-mnist/t10k-images-idx3-ubyte  \n",
      "  inflating: feed-forward/fashion-mnist/t10k-labels-idx1-ubyte  \n",
      "  inflating: feed-forward/fashion-mnist/train-images-idx3-ubyte  \n",
      "  inflating: feed-forward/fashion-mnist/train-labels-idx1-ubyte  \n",
      "  inflating: feed-forward/feedforward.cpp  \n",
      "  inflating: feed-forward/read-mnist.h  \n"
     ]
    }
   ],
   "source": [
    "!unzip feed-forward.zip"
   ]
  },
  {
   "cell_type": "code",
   "execution_count": 0,
   "metadata": {
    "colab": {},
    "colab_type": "code",
    "id": "fcpKPkMU9M77"
   },
   "outputs": [],
   "source": [
    "import os\n",
    "os.chdir(\"feed-forward\")"
   ]
  },
  {
   "cell_type": "markdown",
   "metadata": {
    "colab_type": "text",
    "id": "eMI7ZCnZ9M79"
   },
   "source": [
    "## <font style=\"color:green\">Compile</font>"
   ]
  },
  {
   "cell_type": "code",
   "execution_count": 7,
   "metadata": {
    "colab": {
     "base_uri": "https://localhost:8080/",
     "height": 646
    },
    "colab_type": "code",
    "id": "sZ5c6U_M9M7-",
    "outputId": "149f48e1-3407-4d45-c5fa-a649e8cb1d2a"
   },
   "outputs": [
    {
     "name": "stdout",
     "output_type": "stream",
     "text": [
      "-- The C compiler identification is GNU 7.4.0\n",
      "-- The CXX compiler identification is GNU 7.4.0\n",
      "-- Check for working C compiler: /usr/bin/cc\n",
      "-- Check for working C compiler: /usr/bin/cc -- works\n",
      "-- Detecting C compiler ABI info\n",
      "-- Detecting C compiler ABI info - done\n",
      "-- Detecting C compile features\n",
      "-- Detecting C compile features - done\n",
      "-- Check for working CXX compiler: /usr/bin/c++\n",
      "-- Check for working CXX compiler: /usr/bin/c++ -- works\n",
      "-- Detecting CXX compiler ABI info\n",
      "-- Detecting CXX compiler ABI info - done\n",
      "-- Detecting CXX compile features\n",
      "-- Detecting CXX compile features - done\n",
      "-- Looking for pthread.h\n",
      "-- Looking for pthread.h - found\n",
      "-- Looking for pthread_create\n",
      "-- Looking for pthread_create - not found\n",
      "-- Looking for pthread_create in pthreads\n",
      "-- Looking for pthread_create in pthreads - not found\n",
      "-- Looking for pthread_create in pthread\n",
      "-- Looking for pthread_create in pthread - found\n",
      "-- Found Threads: TRUE  \n",
      "-- Found CUDA: /usr/local/cuda (found version \"10.0\") \n",
      "-- Caffe2: CUDA detected: 10.0\n",
      "-- Caffe2: CUDA nvcc is: /usr/local/cuda/bin/nvcc\n",
      "-- Caffe2: CUDA toolkit directory: /usr/local/cuda\n",
      "-- Caffe2: Header version is: 10.0\n",
      "-- Found CUDNN: /usr/lib/x86_64-linux-gnu/libcudnn.so  \n",
      "-- Found cuDNN: v7.6.5  (include: /usr/include, library: /usr/lib/x86_64-linux-gnu/libcudnn.so)\n",
      "-- Autodetected CUDA architecture(s):  6.0\n",
      "-- Added CUDA NVCC flags for: -gencode;arch=compute_60,code=sm_60\n",
      "-- Found torch: /content/libtorch/lib/libtorch.so  \n",
      "-- Found OpenCV: /usr (found version \"3.2.0\") \n",
      "-- Configuring done\n",
      "-- Generating done\n",
      "-- Build files have been written to: /content/feed-forward\n"
     ]
    }
   ],
   "source": [
    "!cmake -DCMAKE_PREFIX_PATH=$PWD/../libtorch ."
   ]
  },
  {
   "cell_type": "code",
   "execution_count": 8,
   "metadata": {
    "colab": {
     "base_uri": "https://localhost:8080/",
     "height": 85
    },
    "colab_type": "code",
    "id": "ZTfc04gF9M8D",
    "outputId": "54f979de-4c76-4688-ced1-db011344c9de"
   },
   "outputs": [
    {
     "name": "stdout",
     "output_type": "stream",
     "text": [
      "\u001b[35m\u001b[1mScanning dependencies of target ffnet\u001b[0m\n",
      "[ 50%] \u001b[32mBuilding CXX object CMakeFiles/ffnet.dir/feedforward.cpp.o\u001b[0m\n",
      "[100%] \u001b[32m\u001b[1mLinking CXX executable ffnet\u001b[0m\n",
      "[100%] Built target ffnet\n"
     ]
    }
   ],
   "source": [
    "!make"
   ]
  },
  {
   "cell_type": "markdown",
   "metadata": {
    "colab_type": "text",
    "id": "sNvmn0bO9M8I"
   },
   "source": [
    "## <font style=\"color:green\">Run </font>"
   ]
  },
  {
   "cell_type": "code",
   "execution_count": 9,
   "metadata": {
    "colab": {
     "base_uri": "https://localhost:8080/",
     "height": 1000
    },
    "colab_type": "code",
    "id": "IyfNIOoo9M8K",
    "outputId": "21298e7b-a7dc-4c88-86ee-dfcc71993790"
   },
   "outputs": [
    {
     "name": "stdout",
     "output_type": "stream",
     "text": [
      "Running on: CUDA\n",
      "Train Epoch: 1 60000/60000\tLoss: 0.0155684\tAcc: 0.52135\n",
      "\n",
      "Val Epoch: 1\tVal Loss: 0.00953094\tVal ACC:0.6615\n",
      "Train Epoch: 2 60000/60000\tLoss: 0.00795719\tAcc: 0.7168\n",
      "\n",
      "Val Epoch: 2\tVal Loss: 0.00726852\tVal ACC:0.7348\n",
      "Train Epoch: 3 60000/60000\tLoss: 0.00655906\tAcc: 0.772033\n",
      "\n",
      "Val Epoch: 3\tVal Loss: 0.00630846\tVal ACC:0.7793\n",
      "Train Epoch: 4 60000/60000\tLoss: 0.00584037\tAcc: 0.799617\n",
      "\n",
      "Val Epoch: 4\tVal Loss: 0.00579063\tVal ACC:0.7979\n",
      "Train Epoch: 5 60000/60000\tLoss: 0.00539863\tAcc: 0.814033\n",
      "\n",
      "Val Epoch: 5\tVal Loss: 0.00549065\tVal ACC:0.8085\n",
      "Train Epoch: 6 60000/60000\tLoss: 0.00510948\tAcc: 0.823933\n",
      "\n",
      "Val Epoch: 6\tVal Loss: 0.0052703\tVal ACC:0.8147\n",
      "Train Epoch: 7 60000/60000\tLoss: 0.00489814\tAcc: 0.83015\n",
      "\n",
      "Val Epoch: 7\tVal Loss: 0.00510668\tVal ACC:0.8192\n",
      "Train Epoch: 8 60000/60000\tLoss: 0.00474306\tAcc: 0.834617\n",
      "\n",
      "Val Epoch: 8\tVal Loss: 0.00497094\tVal ACC:0.8232\n",
      "Train Epoch: 9 60000/60000\tLoss: 0.00461981\tAcc: 0.8378\n",
      "\n",
      "Val Epoch: 9\tVal Loss: 0.00484384\tVal ACC:0.8284\n",
      "Train Epoch: 10 60000/60000\tLoss: 0.0045123\tAcc: 0.842333\n",
      "\n",
      "Val Epoch: 10\tVal Loss: 0.00471928\tVal ACC:0.8332\n",
      "Train Epoch: 11 60000/60000\tLoss: 0.00443534\tAcc: 0.844567\n",
      "\n",
      "Val Epoch: 11\tVal Loss: 0.0047282\tVal ACC:0.8308\n",
      "Train Epoch: 12 60000/60000\tLoss: 0.00434924\tAcc: 0.848217\n",
      "\n",
      "Val Epoch: 12\tVal Loss: 0.00463708\tVal ACC:0.8314\n",
      "Train Epoch: 13 60000/60000\tLoss: 0.00427386\tAcc: 0.850817\n",
      "\n",
      "Val Epoch: 13\tVal Loss: 0.00456394\tVal ACC:0.8374\n",
      "Train Epoch: 14 60000/60000\tLoss: 0.00421106\tAcc: 0.8533\n",
      "\n",
      "Val Epoch: 14\tVal Loss: 0.0045431\tVal ACC:0.8399\n",
      "Train Epoch: 15 60000/60000\tLoss: 0.00414374\tAcc: 0.85595\n",
      "\n",
      "Val Epoch: 15\tVal Loss: 0.00445803\tVal ACC:0.8432\n",
      "Train Epoch: 16 60000/60000\tLoss: 0.00408687\tAcc: 0.857967\n",
      "\n",
      "Val Epoch: 16\tVal Loss: 0.00441305\tVal ACC:0.8449\n",
      "Train Epoch: 17 60000/60000\tLoss: 0.00403093\tAcc: 0.859317\n",
      "\n",
      "Val Epoch: 17\tVal Loss: 0.00434852\tVal ACC:0.8446\n",
      "Train Epoch: 18 60000/60000\tLoss: 0.00398446\tAcc: 0.860583\n",
      "\n",
      "Val Epoch: 18\tVal Loss: 0.0043416\tVal ACC:0.8466\n",
      "Train Epoch: 19 60000/60000\tLoss: 0.00394115\tAcc: 0.862383\n",
      "\n",
      "Val Epoch: 19\tVal Loss: 0.00436881\tVal ACC:0.8476\n",
      "Train Epoch: 20 60000/60000\tLoss: 0.0038795\tAcc: 0.8649\n",
      "\n",
      "***** TESTING on TEST IMAGE 0 *****\n",
      "GroundTruth: 2, Prediction: 2\n",
      "[ Variable[CUDALongType]{} ]\n",
      "Output Probabilities\n",
      "Class: 0 0.00672281\n",
      "Class: 1 0.00144113\n",
      "Class: 2 0.460948\n",
      "Class: 3 0.0228227\n",
      "Class: 4 0.0884988\n",
      "Class: 5 0.000550125\n",
      "Class: 6 0.396917\n",
      "Class: 7 7.34538e-09\n",
      "Class: 8 0.0220995\n",
      "Class: 9 4.45121e-07\n",
      "Outputs saved, Please checkout the output images\n",
      "***** TESTING on TEST IMAGE 1 *****\n",
      "GroundTruth: 3, Prediction: 3\n",
      "[ Variable[CUDALongType]{} ]\n",
      "Output Probabilities\n",
      "Class: 0 0.000209452\n",
      "Class: 1 3.19239e-05\n",
      "Class: 2 0.000433445\n",
      "Class: 3 0.996865\n",
      "Class: 4 0.00209711\n",
      "Class: 5 1.49309e-11\n",
      "Class: 6 0.000339273\n",
      "Class: 7 4.92747e-11\n",
      "Class: 8 2.29207e-05\n",
      "Class: 9 1.43458e-11\n",
      "Outputs saved, Please checkout the output images\n",
      "***** TESTING on TEST IMAGE 2 *****\n",
      "GroundTruth: 2, Prediction: 2\n",
      "[ Variable[CUDALongType]{} ]\n",
      "Output Probabilities\n",
      "Class: 0 0.000504171\n",
      "Class: 1 0.000148144\n",
      "Class: 2 0.939217\n",
      "Class: 3 0.000312431\n",
      "Class: 4 0.0260935\n",
      "Class: 5 4.38722e-09\n",
      "Class: 6 0.0335889\n",
      "Class: 7 6.91261e-13\n",
      "Class: 8 0.000135981\n",
      "Class: 9 8.01626e-12\n",
      "Outputs saved, Please checkout the output images\n",
      "Val Epoch: 20\tVal Loss: 0.00420176\tVal ACC:0.8501\n"
     ]
    }
   ],
   "source": [
    "!./ffnet"
   ]
  },
  {
   "cell_type": "markdown",
   "metadata": {
    "colab_type": "text",
    "id": "_iPfitfe9M8P"
   },
   "source": [
    "## <font style=\"color:blue\">Plot Loss and Accuracy Curves using Matplotlib</font>\n",
    "We will be using the matplotlib library to plot the accuracy and loss curves for visualizing how the loss and acuracy changed while training.\n",
    "\n",
    "We had saved the loss and accuracy for training and test data while training for each epoch. We just load the data from those files and put them in a list and finally plot them."
   ]
  },
  {
   "cell_type": "code",
   "execution_count": 0,
   "metadata": {
    "colab": {},
    "colab_type": "code",
    "id": "UzHKqCs29M8Q"
   },
   "outputs": [],
   "source": [
    "with open(\"loss_acc_train.txt\",'r') as train_file:\n",
    "  train_data = train_file.readlines()\n",
    "with open(\"loss_acc_test.txt\",'r') as test_file:\n",
    "  test_data = test_file.readlines()\n"
   ]
  },
  {
   "cell_type": "code",
   "execution_count": 0,
   "metadata": {
    "colab": {},
    "colab_type": "code",
    "id": "Ce_5SUiW9M8U"
   },
   "outputs": [],
   "source": [
    "train_loss_array = []\n",
    "train_acc_array = []\n",
    "for item in train_data:\n",
    "  loss,acc = item.strip().split(',')\n",
    "  train_loss_array.append(float(loss))\n",
    "  train_acc_array.append(float(acc))"
   ]
  },
  {
   "cell_type": "code",
   "execution_count": 0,
   "metadata": {
    "colab": {},
    "colab_type": "code",
    "id": "AhOjg4aP9M8Y"
   },
   "outputs": [],
   "source": [
    "test_loss_array = []\n",
    "test_acc_array = []\n",
    "for item in test_data:\n",
    "  loss,acc = item.strip().split(',')\n",
    "  test_loss_array.append(float(loss))\n",
    "  test_acc_array.append(float(acc))"
   ]
  },
  {
   "cell_type": "code",
   "execution_count": 13,
   "metadata": {
    "colab": {
     "base_uri": "https://localhost:8080/",
     "height": 54
    },
    "colab_type": "code",
    "id": "rSy1bVLO9M8a",
    "outputId": "af162cfe-5132-4693-a35b-fc6dc71083f8"
   },
   "outputs": [
    {
     "name": "stdout",
     "output_type": "stream",
     "text": [
      "[0.015568, 0.007957, 0.006559, 0.00584, 0.005399, 0.005109, 0.004898, 0.004743, 0.00462, 0.004512, 0.004435, 0.004349, 0.004274, 0.004211, 0.004144, 0.004087, 0.004031, 0.003984, 0.003941, 0.003879]\n"
     ]
    }
   ],
   "source": [
    "print(train_loss_array)"
   ]
  },
  {
   "cell_type": "code",
   "execution_count": 0,
   "metadata": {
    "colab": {},
    "colab_type": "code",
    "id": "JFlOWFXi9M8d"
   },
   "outputs": [],
   "source": [
    "import matplotlib.pyplot as plt\n",
    "%matplotlib inline"
   ]
  },
  {
   "cell_type": "code",
   "execution_count": 15,
   "metadata": {
    "colab": {
     "base_uri": "https://localhost:8080/",
     "height": 281
    },
    "colab_type": "code",
    "id": "g2UIfJ7H9M8h",
    "outputId": "3788d24b-a0b2-4231-8d28-1e50c6f71209"
   },
   "outputs": [
    {
     "data": {
      "image/png": "[encoded data removed]",
      "text/plain": [
       "<Figure size 432x288 with 1 Axes>"
      ]
     },
     "metadata": {
      "tags": []
     },
     "output_type": "display_data"
    }
   ],
   "source": [
    "plt.plot(train_loss_array,'b')\n",
    "plt.plot(test_loss_array,'r')\n",
    "plt.title(\"Loss Curves\");"
   ]
  },
  {
   "cell_type": "code",
   "execution_count": 16,
   "metadata": {
    "colab": {
     "base_uri": "https://localhost:8080/",
     "height": 281
    },
    "colab_type": "code",
    "id": "lnqFl5WN9M8o",
    "outputId": "b002fd1c-30ff-4e56-acef-e44c5ea1abd5"
   },
   "outputs": [
    {
     "data": {
      "image/png": "[encoded data removed]",
      "text/plain": [
       "<Figure size 432x288 with 1 Axes>"
      ]
     },
     "metadata": {
      "tags": []
     },
     "output_type": "display_data"
    }
   ],
   "source": [
    "plt.plot(train_acc_array,'b')\n",
    "plt.plot(test_acc_array,'r')\n",
    "plt.title(\"Accuracy Curves\");"
   ]
  },
  {
   "cell_type": "markdown",
   "metadata": {
    "colab_type": "text",
    "id": "JMRxB-Cf9M8t"
   },
   "source": [
    "References:\n",
    "- https://pytorch.org/tutorials/advanced/cpp_frontend.html\n",
    "- https://github.com/pytorch/examples/blob/master/cpp/custom-dataset/custom-dataset.cpp"
   ]
  }
 ],
 "metadata": {
  "accelerator": "GPU",
  "colab": {
   "name": "FeedForward_Neural_Network.ipynb",
   "provenance": []
  },
  "kernelspec": {
   "display_name": "Python 3",
   "language": "python",
   "name": "python3"
  },
  "language_info": {
   "codemirror_mode": {
    "name": "ipython",
    "version": 3
   },
   "file_extension": ".py",
   "mimetype": "text/x-python",
   "name": "python",
   "nbconvert_exporter": "python",
   "pygments_lexer": "ipython3",
   "version": "3.7.5"
  }
 },
 "nbformat": 4,
 "nbformat_minor": 1
}
